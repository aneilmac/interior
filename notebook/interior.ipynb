{
 "cells": [
  {
   "cell_type": "code",
   "execution_count": 21,
   "metadata": {},
   "outputs": [
    {
     "data": {
      "text/plain": [
       "True"
      ]
     },
     "metadata": {},
     "output_type": "display_data"
    }
   ],
   "source": [
    "type Point = (Double, Double) \n",
    "\n",
    "data Point3 = Point3 \n",
    "            { a1 :: Point\n",
    "            , a2 :: Point\n",
    "            , a3 :: Point\n",
    "            }\n",
    "        \n",
    "interior :: Point -> Point3 -> Bool\n",
    "interior x t =  testLine (a1 t) (a2 t) (a3 t)\n",
    "             && testLine (a2 t) (a1 t) (a3 t)\n",
    "             && testLine (a3 t) (a1 t) (a2 t)\n",
    "        where testLine p r q = sameSide x p (linearFunction r q)\n",
    "\n",
    "sameSide :: Point -> Point -> (Point -> Double) -> Bool\n",
    "sameSide u v f\n",
    "        | (f u > 0) && (f v > 0) = True\n",
    "        | (f u < 0) && (f v < 0) = True\n",
    "        | otherwise              = False\n",
    "\n",
    "linearFunction :: Point -> Point -> Point -> Double\n",
    "linearFunction (ux, uy) (vx, vy) (qx, qy) = \n",
    "    let qu  = (qx - ux, qy - uy)\n",
    "        uv  = (ux - vx, uy - vy)\n",
    "     in qu `dotProduct` perpendicular uv\n",
    "\n",
    "perpendicular :: Point -> Point\n",
    "perpendicular (wx, wy) = (wy, -wx)\n",
    "\n",
    "dotProduct :: Point -> Point -> Double\n",
    "dotProduct (ax, ay) (bx, by) = ax * bx + ay * by"
   ]
  },
  {
   "cell_type": "markdown",
   "metadata": {},
   "source": [
    "The follow is true:"
   ]
  },
  {
   "cell_type": "code",
   "execution_count": 22,
   "metadata": {},
   "outputs": [
    {
     "data": {
      "text/plain": [
       "True"
      ]
     },
     "metadata": {},
     "output_type": "display_data"
    }
   ],
   "source": [
    "interior (1, 0.5) (Point3 (0, 0) (1, 1) (2, 0))"
   ]
  },
  {
   "cell_type": "markdown",
   "metadata": {},
   "source": [
    "The following is false:"
   ]
  },
  {
   "cell_type": "code",
   "execution_count": 23,
   "metadata": {},
   "outputs": [
    {
     "data": {
      "text/plain": [
       "False"
      ]
     },
     "metadata": {},
     "output_type": "display_data"
    }
   ],
   "source": [
    "interior (100, 100) (Point3 (0, 0) (1, 1) (2, 0))"
   ]
  }
 ],
 "metadata": {
  "kernelspec": {
   "display_name": "Haskell",
   "language": "haskell",
   "name": "haskell"
  },
  "language_info": {
   "codemirror_mode": "ihaskell",
   "file_extension": ".hs",
   "mimetype": "text/x-haskell",
   "name": "haskell",
   "pygments_lexer": "Haskell",
   "version": "8.10.7"
  },
  "orig_nbformat": 4
 },
 "nbformat": 4,
 "nbformat_minor": 2
}
